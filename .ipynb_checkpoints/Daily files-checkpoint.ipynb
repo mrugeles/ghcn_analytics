{
 "cells": [
  {
   "cell_type": "code",
   "execution_count": 2,
   "id": "c9e3427e",
   "metadata": {},
   "outputs": [],
   "source": [
    "import os\n",
    "import pandas as pd\n",
    "file_path = \"datasets/ghcnd_all/ACW00011604.dly\""
   ]
  },
  {
   "cell_type": "code",
   "execution_count": 3,
   "id": "d64d3a01",
   "metadata": {},
   "outputs": [],
   "source": [
    "file = open(file_path, \"r\")\n",
    "content = file.readlines()"
   ]
  },
  {
   "cell_type": "markdown",
   "id": "9dad339b",
   "metadata": {},
   "source": [
    "## Define fields to capture with a dictionary "
   ]
  },
  {
   "cell_type": "code",
   "execution_count": 4,
   "id": "47bff98e",
   "metadata": {},
   "outputs": [],
   "source": [
    "fields = {\n",
    "    \"ID\": {\"init\": 0, \"end\": 11},\n",
    "    \"YEAR\": {\"init\": 11, \"end\": 15},\n",
    "    \"MONTH\": {\"init\": 15, \"end\": 17},\n",
    "    \"ELEMENT\": {\"init\": 17, \"end\": 21}\n",
    "}"
   ]
  },
  {
   "cell_type": "code",
   "execution_count": 5,
   "id": "c22b85d0",
   "metadata": {},
   "outputs": [],
   "source": [
    "for idx, i in enumerate(range(21, 269, 8)):\n",
    "    fields[f\"VALUE{idx+1}\"] = {\"init\": i, \"end\": i+5}\n",
    "    fields[f\"MFLAG{idx+1}\"] = {\"init\": i+5, \"end\": i+6}\n",
    "    fields[f\"QFLAG{idx+1}\"] = {\"init\": i+6, \"end\": i+7}\n",
    "    fields[f\"SFLAG{idx+1}\"] = {\"init\": i+7, \"end\": i+8}\n",
    "    "
   ]
  },
  {
   "cell_type": "markdown",
   "id": "8ae0a0ed",
   "metadata": {},
   "source": [
    "## Capture data\n",
    "\n",
    "Capture only records with data."
   ]
  },
  {
   "cell_type": "code",
   "execution_count": 6,
   "id": "addf7728",
   "metadata": {},
   "outputs": [
    {
     "data": {
      "text/plain": [
       "{'ID': 'ACW00011604',\n",
       " 'YEAR': '1949',\n",
       " 'MONTH': '06',\n",
       " 'ELEMENT': 'WT16',\n",
       " 'VALUE1': '    1',\n",
       " 'MFLAG1': ' ',\n",
       " 'QFLAG1': ' ',\n",
       " 'SFLAG1': 'X',\n",
       " 'VALUE3': '    1',\n",
       " 'MFLAG3': ' ',\n",
       " 'QFLAG3': ' ',\n",
       " 'SFLAG3': 'X',\n",
       " 'VALUE4': '    1',\n",
       " 'MFLAG4': ' ',\n",
       " 'QFLAG4': ' ',\n",
       " 'SFLAG4': 'X',\n",
       " 'VALUE5': '    1',\n",
       " 'MFLAG5': ' ',\n",
       " 'QFLAG5': ' ',\n",
       " 'SFLAG5': 'X',\n",
       " 'VALUE6': '    1',\n",
       " 'MFLAG6': ' ',\n",
       " 'QFLAG6': ' ',\n",
       " 'SFLAG6': 'X',\n",
       " 'VALUE7': '    1',\n",
       " 'MFLAG7': ' ',\n",
       " 'QFLAG7': ' ',\n",
       " 'SFLAG7': 'X',\n",
       " 'VALUE8': '    1',\n",
       " 'MFLAG8': ' ',\n",
       " 'QFLAG8': ' ',\n",
       " 'SFLAG8': 'X',\n",
       " 'VALUE9': '    1',\n",
       " 'MFLAG9': ' ',\n",
       " 'QFLAG9': ' ',\n",
       " 'SFLAG9': 'X',\n",
       " 'VALUE10': '    1',\n",
       " 'MFLAG10': ' ',\n",
       " 'QFLAG10': ' ',\n",
       " 'SFLAG10': 'X',\n",
       " 'VALUE12': '    1',\n",
       " 'MFLAG12': ' ',\n",
       " 'QFLAG12': ' ',\n",
       " 'SFLAG12': 'X',\n",
       " 'VALUE14': '    1',\n",
       " 'MFLAG14': ' ',\n",
       " 'QFLAG14': ' ',\n",
       " 'SFLAG14': 'X',\n",
       " 'VALUE16': '    1',\n",
       " 'MFLAG16': ' ',\n",
       " 'QFLAG16': ' ',\n",
       " 'SFLAG16': 'X',\n",
       " 'VALUE17': '    1',\n",
       " 'MFLAG17': ' ',\n",
       " 'QFLAG17': ' ',\n",
       " 'SFLAG17': 'X',\n",
       " 'VALUE18': '    1',\n",
       " 'MFLAG18': ' ',\n",
       " 'QFLAG18': ' ',\n",
       " 'SFLAG18': 'X',\n",
       " 'VALUE19': '    1',\n",
       " 'MFLAG19': ' ',\n",
       " 'QFLAG19': ' ',\n",
       " 'SFLAG19': 'X'}"
      ]
     },
     "execution_count": 6,
     "metadata": {},
     "output_type": "execute_result"
    }
   ],
   "source": [
    "records = []\n",
    "measurement = \"\"\n",
    "for line in content:\n",
    "    record = {}\n",
    "    for key in fields:\n",
    "        if \"VALUE\" in key:\n",
    "            measurement = line[fields[key][\"init\"]:fields[key][\"end\"]]\n",
    "        value = line[fields[key][\"init\"]:fields[key][\"end\"]]\n",
    "        if (measurement != \"-9999\") or key in [\"ID\", \"YEAR\", \"MONTH\", \"ELEMENT\"]:\n",
    "            record[key] = value\n",
    "    records += [record]\n",
    "records[40]"
   ]
  },
  {
   "cell_type": "markdown",
   "id": "07a309ef",
   "metadata": {},
   "source": [
    "## Struct data "
   ]
  },
  {
   "cell_type": "code",
   "execution_count": 7,
   "id": "f76ee559",
   "metadata": {},
   "outputs": [],
   "source": [
    "import re\n",
    "\n",
    "# Compile the regular expression pattern\n",
    "pattern = re.compile(r'\\d+')\n",
    "\n",
    "def get_record(r, day):\n",
    "    return (\n",
    "        r['ID'], \n",
    "        r['YEAR'], \n",
    "        r['MONTH'], \n",
    "        r['ELEMENT'], \n",
    "        day,\n",
    "        r[f\"VALUE{day}\"],\n",
    "        r[f\"MFLAG{day}\"],\n",
    "        r[f\"QFLAG{day}\"],\n",
    "        r[f\"SFLAG{day}\"],\n",
    "    )\n",
    "\n",
    "\n",
    "def get_records(records):\n",
    "    measurements = []\n",
    "    for record in records:\n",
    "        # Use set comprehension for clarity and efficiency\n",
    "        days = {int(pattern.search(key).group()) for key in record if pattern.search(key)}\n",
    "        measurements += [get_record(record, day) for day in days]\n",
    "    return measurements\n",
    "\n",
    "df = pd.DataFrame(get_records(records), columns=['id', 'year', 'month', 'element', 'day', 'value', 'measurement_flag', 'quality_flag', 'source_flag'])"
   ]
  },
  {
   "cell_type": "code",
   "execution_count": 8,
   "id": "4b0f0f84",
   "metadata": {},
   "outputs": [
    {
     "data": {
      "text/html": [
       "<div>\n",
       "<style scoped>\n",
       "    .dataframe tbody tr th:only-of-type {\n",
       "        vertical-align: middle;\n",
       "    }\n",
       "\n",
       "    .dataframe tbody tr th {\n",
       "        vertical-align: top;\n",
       "    }\n",
       "\n",
       "    .dataframe thead th {\n",
       "        text-align: right;\n",
       "    }\n",
       "</style>\n",
       "<table border=\"1\" class=\"dataframe\">\n",
       "  <thead>\n",
       "    <tr style=\"text-align: right;\">\n",
       "      <th></th>\n",
       "      <th>id</th>\n",
       "      <th>year</th>\n",
       "      <th>month</th>\n",
       "      <th>element</th>\n",
       "      <th>day</th>\n",
       "      <th>value</th>\n",
       "      <th>measurement_flag</th>\n",
       "      <th>quality_flag</th>\n",
       "      <th>source_flag</th>\n",
       "    </tr>\n",
       "  </thead>\n",
       "  <tbody>\n",
       "    <tr>\n",
       "      <th>0</th>\n",
       "      <td>ACW00011604</td>\n",
       "      <td>1949</td>\n",
       "      <td>01</td>\n",
       "      <td>TMAX</td>\n",
       "      <td>1</td>\n",
       "      <td>289</td>\n",
       "      <td></td>\n",
       "      <td></td>\n",
       "      <td>X</td>\n",
       "    </tr>\n",
       "    <tr>\n",
       "      <th>1</th>\n",
       "      <td>ACW00011604</td>\n",
       "      <td>1949</td>\n",
       "      <td>01</td>\n",
       "      <td>TMAX</td>\n",
       "      <td>2</td>\n",
       "      <td>289</td>\n",
       "      <td></td>\n",
       "      <td></td>\n",
       "      <td>X</td>\n",
       "    </tr>\n",
       "    <tr>\n",
       "      <th>2</th>\n",
       "      <td>ACW00011604</td>\n",
       "      <td>1949</td>\n",
       "      <td>01</td>\n",
       "      <td>TMAX</td>\n",
       "      <td>3</td>\n",
       "      <td>283</td>\n",
       "      <td></td>\n",
       "      <td></td>\n",
       "      <td>X</td>\n",
       "    </tr>\n",
       "    <tr>\n",
       "      <th>3</th>\n",
       "      <td>ACW00011604</td>\n",
       "      <td>1949</td>\n",
       "      <td>01</td>\n",
       "      <td>TMAX</td>\n",
       "      <td>4</td>\n",
       "      <td>283</td>\n",
       "      <td></td>\n",
       "      <td></td>\n",
       "      <td>X</td>\n",
       "    </tr>\n",
       "    <tr>\n",
       "      <th>4</th>\n",
       "      <td>ACW00011604</td>\n",
       "      <td>1949</td>\n",
       "      <td>01</td>\n",
       "      <td>TMAX</td>\n",
       "      <td>5</td>\n",
       "      <td>289</td>\n",
       "      <td></td>\n",
       "      <td></td>\n",
       "      <td>X</td>\n",
       "    </tr>\n",
       "  </tbody>\n",
       "</table>\n",
       "</div>"
      ],
      "text/plain": [
       "            id  year month element  day  value measurement_flag quality_flag  \\\n",
       "0  ACW00011604  1949    01    TMAX    1    289                                 \n",
       "1  ACW00011604  1949    01    TMAX    2    289                                 \n",
       "2  ACW00011604  1949    01    TMAX    3    283                                 \n",
       "3  ACW00011604  1949    01    TMAX    4    283                                 \n",
       "4  ACW00011604  1949    01    TMAX    5    289                                 \n",
       "\n",
       "  source_flag  \n",
       "0           X  \n",
       "1           X  \n",
       "2           X  \n",
       "3           X  \n",
       "4           X  "
      ]
     },
     "execution_count": 8,
     "metadata": {},
     "output_type": "execute_result"
    }
   ],
   "source": [
    "df.head()"
   ]
  },
  {
   "cell_type": "code",
   "execution_count": 1,
   "id": "159aa2d9",
   "metadata": {},
   "outputs": [],
   "source": [
    "from sqlalchemy import create_engine\n"
   ]
  }
 ],
 "metadata": {
  "kernelspec": {
   "display_name": "Python 3 (ipykernel)",
   "language": "python",
   "name": "python3"
  },
  "language_info": {
   "codemirror_mode": {
    "name": "ipython",
    "version": 3
   },
   "file_extension": ".py",
   "mimetype": "text/x-python",
   "name": "python",
   "nbconvert_exporter": "python",
   "pygments_lexer": "ipython3",
   "version": "3.11.5"
  }
 },
 "nbformat": 4,
 "nbformat_minor": 5
}
