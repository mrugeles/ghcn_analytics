{
 "cells": [
  {
   "cell_type": "code",
   "execution_count": 1,
   "id": "b2e34a77",
   "metadata": {},
   "outputs": [],
   "source": [
    "import re"
   ]
  },
  {
   "cell_type": "code",
   "execution_count": 2,
   "id": "99ed47cb",
   "metadata": {},
   "outputs": [],
   "source": [
    "html_content = \"\"\"\n",
    "<!-- saved from url=(0050)https://www.ncei.noaa.gov/pub/data/ghcn/daily/all/ -->\n",
    "<html><head><meta http-equiv=\"Content-Type\" content=\"text/html; charset=UTF-8\">\n",
    "  <title>Index of /pub/data/ghcn/daily/all</title>\n",
    " <script async=\"\" src=\"./daily_all_files/analytics.js\"></script><script type=\"text/javascript\" src=\"./daily_all_files/js\"></script></head>\n",
    " <body>\n",
    "<h1>Index of /pub/data/ghcn/daily/all</h1>\n",
    "  <table>\n",
    "   <tbody><tr><th><a href=\"https://www.ncei.noaa.gov/pub/data/ghcn/daily/all/?C=N;O=D\">Name</a></th><th><a href=\"https://www.ncei.noaa.gov/pub/data/ghcn/daily/all/?C=M;O=A\">Last modified</a></th><th><a href=\"https://www.ncei.noaa.gov/pub/data/ghcn/daily/all/?C=S;O=A\">Size</a></th><th><a href=\"https://www.ncei.noaa.gov/pub/data/ghcn/daily/all/?C=D;O=A\">Description</a></th></tr>\n",
    "   <tr><th colspan=\"4\"><hr></th></tr>\n",
    "<tr><td><a href=\"https://www.ncei.noaa.gov/pub/data/ghcn/daily/\">Parent Directory</a></td><td>&nbsp;</td><td align=\"right\">  - </td><td>&nbsp;</td></tr>\n",
    "<tr><td><a href=\"https://www.ncei.noaa.gov/pub/data/ghcn/daily/all/ACW00011604.dly\">ACW00011604.dly</a></td><td align=\"right\">2024-03-20 13:06  </td><td align=\"right\"> 13K</td><td>&nbsp;</td></tr>\n",
    "<tr><td><a href=\"https://www.ncei.noaa.gov/pub/data/ghcn/daily/all/ACW00011647.dly\">ACW00011647.dly</a></td><td align=\"right\">2024-03-20 13:06  </td><td align=\"right\">114K</td><td>&nbsp;</td></tr>\n",
    "<tr><td><a href=\"https://www.ncei.noaa.gov/pub/data/ghcn/daily/all/AE000041196.dly\">AE000041196.dly</a></td><td align=\"right\">2024-03-28 20:40  </td><td align=\"right\">629K</td><td>&nbsp;</td></tr>\n",
    "<tr><td><a href=\"https://www.ncei.noaa.gov/pub/data/ghcn/daily/all/AEM00041194.dly\">AEM00041194.dly</a></td><td align=\"right\">2024-03-28 20:40  </td><td align=\"right\">457K</td><td>&nbsp;</td></tr>\n",
    "<tr><td><a href=\"https://www.ncei.noaa.gov/pub/data/ghcn/daily/all/AEM00041217.dly\">AEM00041217.dly</a></td><td align=\"right\">2024-03-28 20:40  </td><td align=\"right\">412K</td><td>&nbsp;</td></tr>\n",
    "<tr><td><a href=\"https://www.ncei.noaa.gov/pub/data/ghcn/daily/all/AEM00041218.dly\">AEM00041218.dly</a></td><td align=\"right\">2024-03-28 20:40  </td><td align=\"right\">273K</td><td>&nbsp;</td></tr>\n",
    "<tr><td><a href=\"https://www.ncei.noaa.gov/pub/data/ghcn/daily/all/AF000040930.dly\">AF000040930.dly</a></td><td align=\"right\">2024-03-20 13:06  </td><td align=\"right\">148K</td><td>&nbsp;</td></tr>\n",
    "<tr><td><a href=\"https://www.ncei.noaa.gov/pub/data/ghcn/daily/all/AFM00040938.dly\">AFM00040938.dly</a></td><td align=\"right\">2024-03-20 13:06  </td><td align=\"right\">217K</td><td>&nbsp;</td></tr>\n",
    "<tr><td><a href=\"https://www.ncei.noaa.gov/pub/data/ghcn/daily/all/AFM00040948.dly\">AFM00040948.dly</a></td><td align=\"right\">2024-03-20 13:06  </td><td align=\"right\">272K</td><td>&nbsp;</td></tr>\n",
    "<tr><td><a href=\"https://www.ncei.noaa.gov/pub/data/ghcn/daily/all/AFM00040990.dly\">AFM00040990.dly</a></td><td align=\"right\">2024-03-20 13:06  </td><td align=\"right\">223K</td><td>&nbsp;</td></tr>\n",
    "<tr><td><a href=\"https://www.ncei.noaa.gov/pub/data/ghcn/daily/all/ghcnd_all/\">ghcnd_all/</a></td><td align=\"right\">2021-01-26 02:28  </td><td align=\"right\">  - </td><td>&nbsp;</td></tr>\n",
    "   <tr><th colspan=\"4\"><hr></th></tr>\n",
    "</tbody></table>\n",
    "<script id=\"_fed_an_ua_tag\" type=\"text/javascript\" src=\"./daily_all_files/Universal-Federated-Analytics-Min.js\"></script>\n",
    "</body>\t<xpather id=\"xpather\">\t\t<form id=\"xpather-form\">\t\t\t<input id=\"xpather-xpath\" type=\"text\" placeholder=\"enter XPath…\" autocomplete=\"off\" spellcheck=\"false\">\t\t</form> \t\t<xpather id=\"xpather-result\"></xpather>\t\t<xpather id=\"xpather-sidebar-toggler\"></xpather>\t</xpather>\t<xpather id=\"xpather-sidebar\">\t\t<xpather id=\"xpather-sidebar-spacer\"></xpather>\t\t<xpather id=\"xpather-sidebar-entries\"></xpather>\t</xpather></html>\n",
    "\"\"\""
   ]
  },
  {
   "cell_type": "code",
   "execution_count": 6,
   "id": "94c50e9b",
   "metadata": {},
   "outputs": [
    {
     "name": "stdout",
     "output_type": "stream",
     "text": [
      "[('ACW00011604.dly', 'ACW00011604.dly', '2024-03-20 13:06', '13K')]\n",
      "[('ACW00011647.dly', 'ACW00011647.dly', '2024-03-20 13:06', '114K')]\n",
      "[('AE000041196.dly', 'AE000041196.dly', '2024-03-28 20:40', '629K')]\n",
      "[('AEM00041194.dly', 'AEM00041194.dly', '2024-03-28 20:40', '457K')]\n",
      "[('AEM00041217.dly', 'AEM00041217.dly', '2024-03-28 20:40', '412K')]\n",
      "[('AEM00041218.dly', 'AEM00041218.dly', '2024-03-28 20:40', '273K')]\n",
      "[('AF000040930.dly', 'AF000040930.dly', '2024-03-20 13:06', '148K')]\n",
      "[('AFM00040938.dly', 'AFM00040938.dly', '2024-03-20 13:06', '217K')]\n",
      "[('AFM00040948.dly', 'AFM00040948.dly', '2024-03-20 13:06', '272K')]\n",
      "[('AFM00040990.dly', 'AFM00040990.dly', '2024-03-20 13:06', '223K')]\n"
     ]
    }
   ],
   "source": [
    "regex_pattern = \"\"\"all\\/(\\w+.\\w{3})\">(\\w+.\\w{3})</a></td><td align=\"right\">(\\d{4}-\\d{2}-\\d{2}\\s\\d{2}\\:\\d{2})\\s*</td><td align=\"right\">\\s*(\\d+\\w*)\"\"\"\n",
    "compiled_regex = re.compile(regex_pattern)\n",
    "\n",
    "matches = []\n",
    "for line in html_content.splitlines():\n",
    "    file_info = compiled_regex.findall(line)\n",
    "    if len(file_info) > 0:\n",
    "        print(file_info)\n",
    "        matches.extend(compiled_regex.findall(line))"
   ]
  },
  {
   "cell_type": "code",
   "execution_count": null,
   "id": "d751961b",
   "metadata": {},
   "outputs": [],
   "source": []
  }
 ],
 "metadata": {
  "kernelspec": {
   "display_name": "Python 3 (ipykernel)",
   "language": "python",
   "name": "python3"
  },
  "language_info": {
   "codemirror_mode": {
    "name": "ipython",
    "version": 3
   },
   "file_extension": ".py",
   "mimetype": "text/x-python",
   "name": "python",
   "nbconvert_exporter": "python",
   "pygments_lexer": "ipython3",
   "version": "3.11.5"
  }
 },
 "nbformat": 4,
 "nbformat_minor": 5
}
