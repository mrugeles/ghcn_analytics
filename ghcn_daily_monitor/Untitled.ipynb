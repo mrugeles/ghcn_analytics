{
 "cells": [
  {
   "cell_type": "code",
   "execution_count": 50,
   "id": "23415e34",
   "metadata": {},
   "outputs": [],
   "source": [
    "import re\n",
    "import pandas as pd"
   ]
  },
  {
   "cell_type": "code",
   "execution_count": 51,
   "id": "e1868a29",
   "metadata": {},
   "outputs": [],
   "source": [
    "html_content = \"\"\"\n",
    "<!-- saved from url=(0050) -->\n",
    "<html><head><meta http-equiv=\"Content-Type\" content=\"text/html; charset=UTF-8\">\n",
    "  <title>Index of /pub/data/ghcn/daily/all</title>\n",
    " <script async=\"\" src=\"./daily_all_files/analytics.js\"></script><script type=\"text/javascript\" src=\"./daily_all_files/js\"></script></head>\n",
    " <body>\n",
    "<h1>Index of /pub/data/ghcn/daily/all</h1>\n",
    "  <table>\n",
    "   <tbody><tr><th><a href=\"?C=N;O=D\">Name</a></th><th><a href=\"?C=M;O=A\">Last modified</a></th><th><a href=\"?C=S;O=A\">Size</a></th><th><a href=\"?C=D;O=A\">Description</a></th></tr>\n",
    "   <tr><th colspan=\"4\"><hr></th></tr>\n",
    "<tr><td><a href=\"https://www.ncei.noaa.gov/pub/data/ghcn/daily/\">Parent Directory</a></td><td>&nbsp;</td><td align=\"right\">  - </td><td>&nbsp;</td></tr>\n",
    "<tr><td><a href=\"ACW00011604.dly\">ACW00011604.dly</a></td><td align=\"right\">2024-03-20 13:06  </td><td align=\"right\"> 13K</td><td>&nbsp;</td></tr>\n",
    "<tr><td><a href=\"ACW00011647.dly\">ACW00011647.dly</a></td><td align=\"right\">2024-03-25 15:34  </td><td align=\"right\">114K</td><td>&nbsp;</td></tr>\n",
    "<tr><td><a href=\"AE000041196.dly\">AE000041196.dly</a></td><td align=\"right\">2024-03-28 20:40  </td><td align=\"right\">629K</td><td>&nbsp;</td></tr>\n",
    "<tr><td><a href=\"AE000048987.dly\">AE000048987.dly</a></td><td align=\"right\">2024-04-05 13:01  </td><td align=\"right\">629K</td><td>&nbsp;</td></tr>\n",
    "<tr><td><a href=\"ghcnd_all/\">ghcnd_all/</a></td><td align=\"right\">2021-01-26 02:28  </td><td align=\"right\">  - </td><td>&nbsp;</td></tr>\n",
    "   <tr><th colspan=\"4\"><hr></th></tr>\n",
    "</tbody></table>\n",
    "<script id=\"_fed_an_ua_tag\" type=\"text/javascript\" src=\"./daily_all_files/Universal-Federated-Analytics-Min.js\"></script>\n",
    "</body>\t<xpather id=\"xpather\">\t\t<form id=\"xpather-form\">\t\t\t<input id=\"xpather-xpath\" type=\"text\" placeholder=\"enter XPath…\" autocomplete=\"off\" spellcheck=\"false\">\t\t</form> \t\t<xpather id=\"xpather-result\"></xpather>\t\t<xpather id=\"xpather-sidebar-toggler\"></xpather>\t</xpather>\t<xpather id=\"xpather-sidebar\">\t\t<xpather id=\"xpather-sidebar-spacer\"></xpather>\t\t<xpather id=\"xpather-sidebar-entries\"></xpather>\t</xpather></html>\"\"\""
   ]
  },
  {
   "cell_type": "code",
   "execution_count": 52,
   "id": "55591e24",
   "metadata": {},
   "outputs": [
    {
     "name": "stdout",
     "output_type": "stream",
     "text": [
      "[('ACW00011604.dly', '2024-03-20 13:06', '13', 'K')]\n",
      "[('ACW00011647.dly', '2024-03-25 15:34', '114', 'K')]\n",
      "[('AE000041196.dly', '2024-03-28 20:40', '629', 'K')]\n",
      "[('AE000048987.dly', '2024-04-05 13:01', '629', 'K')]\n"
     ]
    }
   ],
   "source": [
    "regex_pattern = ('(\\\\w+.\\\\w{3})</a></td><td align=\"right\">(\\\\d{4}-\\\\d{2}-\\\\d{2}\\\\s\\\\d{2}\\\\:\\\\d{2})\\\\s*</td><td '\n",
    "                 'align=\"right\">\\\\s*(\\\\d+)(\\\\w*)')\n",
    "compiled_regex = re.compile(regex_pattern)\n",
    "\n",
    "matches = []\n",
    "for line in html_content.splitlines():\n",
    "    file_info = compiled_regex.findall(line)\n",
    "    if len(file_info) > 0:\n",
    "        print(file_info)\n",
    "        matches.extend(compiled_regex.findall(line))"
   ]
  },
  {
   "cell_type": "code",
   "execution_count": 53,
   "id": "efbaffc3",
   "metadata": {},
   "outputs": [
    {
     "data": {
      "text/html": [
       "<div>\n",
       "<style scoped>\n",
       "    .dataframe tbody tr th:only-of-type {\n",
       "        vertical-align: middle;\n",
       "    }\n",
       "\n",
       "    .dataframe tbody tr th {\n",
       "        vertical-align: top;\n",
       "    }\n",
       "\n",
       "    .dataframe thead th {\n",
       "        text-align: right;\n",
       "    }\n",
       "</style>\n",
       "<table border=\"1\" class=\"dataframe\">\n",
       "  <thead>\n",
       "    <tr style=\"text-align: right;\">\n",
       "      <th></th>\n",
       "      <th>file_name</th>\n",
       "      <th>last_modified</th>\n",
       "      <th>size_value</th>\n",
       "      <th>size_unit</th>\n",
       "    </tr>\n",
       "  </thead>\n",
       "  <tbody>\n",
       "    <tr>\n",
       "      <th>0</th>\n",
       "      <td>ACW00011604.dly</td>\n",
       "      <td>2024-03-20 13:06:00</td>\n",
       "      <td>13</td>\n",
       "      <td>K</td>\n",
       "    </tr>\n",
       "    <tr>\n",
       "      <th>1</th>\n",
       "      <td>ACW00011647.dly</td>\n",
       "      <td>2024-03-25 15:34:00</td>\n",
       "      <td>114</td>\n",
       "      <td>K</td>\n",
       "    </tr>\n",
       "    <tr>\n",
       "      <th>2</th>\n",
       "      <td>AE000041196.dly</td>\n",
       "      <td>2024-03-28 20:40:00</td>\n",
       "      <td>629</td>\n",
       "      <td>K</td>\n",
       "    </tr>\n",
       "    <tr>\n",
       "      <th>3</th>\n",
       "      <td>AE000048987.dly</td>\n",
       "      <td>2024-04-05 13:01:00</td>\n",
       "      <td>629</td>\n",
       "      <td>K</td>\n",
       "    </tr>\n",
       "  </tbody>\n",
       "</table>\n",
       "</div>"
      ],
      "text/plain": [
       "         file_name       last_modified size_value size_unit\n",
       "0  ACW00011604.dly 2024-03-20 13:06:00         13         K\n",
       "1  ACW00011647.dly 2024-03-25 15:34:00        114         K\n",
       "2  AE000041196.dly 2024-03-28 20:40:00        629         K\n",
       "3  AE000048987.dly 2024-04-05 13:01:00        629         K"
      ]
     },
     "execution_count": 53,
     "metadata": {},
     "output_type": "execute_result"
    }
   ],
   "source": [
    "files_df = pd.DataFrame(matches, columns=['file_name', 'last_modified', 'size_value', 'size_unit'])\n",
    "files_df['last_modified'] = pd.to_datetime(files_df['last_modified'], format='%Y-%m-%d %H:%M')\n",
    "\n",
    "files_df"
   ]
  },
  {
   "cell_type": "code",
   "execution_count": 68,
   "id": "779b54ee",
   "metadata": {},
   "outputs": [],
   "source": [
    "from datetime import datetime\n",
    "today = datetime.today()\n",
    "today = today.replace(hour=0, minute=0, second=0, microsecond=0)\n",
    "date_threshold = today.strftime('%Y-%m-%d')\n",
    "#date_threshold = pd.to_datetime(date_threshold)\n",
    "#date_threshold"
   ]
  },
  {
   "cell_type": "code",
   "execution_count": 69,
   "id": "3ff3cf10",
   "metadata": {},
   "outputs": [
    {
     "data": {
      "text/html": [
       "<div>\n",
       "<style scoped>\n",
       "    .dataframe tbody tr th:only-of-type {\n",
       "        vertical-align: middle;\n",
       "    }\n",
       "\n",
       "    .dataframe tbody tr th {\n",
       "        vertical-align: top;\n",
       "    }\n",
       "\n",
       "    .dataframe thead th {\n",
       "        text-align: right;\n",
       "    }\n",
       "</style>\n",
       "<table border=\"1\" class=\"dataframe\">\n",
       "  <thead>\n",
       "    <tr style=\"text-align: right;\">\n",
       "      <th></th>\n",
       "      <th>file_name</th>\n",
       "      <th>last_modified</th>\n",
       "      <th>size_value</th>\n",
       "      <th>size_unit</th>\n",
       "    </tr>\n",
       "  </thead>\n",
       "  <tbody>\n",
       "    <tr>\n",
       "      <th>3</th>\n",
       "      <td>AE000048987.dly</td>\n",
       "      <td>2024-04-05 13:01:00</td>\n",
       "      <td>629</td>\n",
       "      <td>K</td>\n",
       "    </tr>\n",
       "  </tbody>\n",
       "</table>\n",
       "</div>"
      ],
      "text/plain": [
       "         file_name       last_modified size_value size_unit\n",
       "3  AE000048987.dly 2024-04-05 13:01:00        629         K"
      ]
     },
     "execution_count": 69,
     "metadata": {},
     "output_type": "execute_result"
    }
   ],
   "source": [
    "\n",
    "filtered_df = files_df[files_df['last_modified'] >= date_threshold]\n",
    "filtered_df"
   ]
  },
  {
   "cell_type": "code",
   "execution_count": 55,
   "id": "69b706b7",
   "metadata": {},
   "outputs": [
    {
     "name": "stdout",
     "output_type": "stream",
     "text": [
      "https://www.ncei.noaa.gov/pub/data/ghcn/daily/all/nan\n"
     ]
    },
    {
     "data": {
      "text/plain": [
       "Series([], dtype: float64)"
      ]
     },
     "execution_count": 55,
     "metadata": {},
     "output_type": "execute_result"
    }
   ],
   "source": [
    "ghcn_url = \"https://www.ncei.noaa.gov/pub/data/ghcn/daily/all\"\n",
    "\n",
    "def download_file(url, filename):\n",
    "    response = requests.get(url, stream=True)\n",
    "\n",
    "    # Raise an exception for bad status codes\n",
    "    response.raise_for_status()\n",
    "\n",
    "    with open(filename, 'wb') as file:\n",
    "        for chunk in response.iter_content(chunk_size=1024):\n",
    "            if chunk:  # Filter out keep-alive chunks\n",
    "                file.write(chunk)\n",
    "\n",
    "    print(f\"Download complete! File saved as: {filename}\")\n",
    "    \n",
    "def download_files(row):\n",
    "    file_name = row['file_name']\n",
    "    file_url = f\"{ghcn_url}/{row['file_name']}\"\n",
    "    print(file_url)\n",
    "    return 'ok'\n",
    "    \n",
    "filtered_df.apply(download_files, axis=1)"
   ]
  }
 ],
 "metadata": {
  "kernelspec": {
   "display_name": "Python 3 (ipykernel)",
   "language": "python",
   "name": "python3"
  },
  "language_info": {
   "codemirror_mode": {
    "name": "ipython",
    "version": 3
   },
   "file_extension": ".py",
   "mimetype": "text/x-python",
   "name": "python",
   "nbconvert_exporter": "python",
   "pygments_lexer": "ipython3",
   "version": "3.11.5"
  }
 },
 "nbformat": 4,
 "nbformat_minor": 5
}
